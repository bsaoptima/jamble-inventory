{
 "cells": [
  {
   "cell_type": "markdown",
   "metadata": {},
   "source": [
    "For this simulation, we will register users then make them place orders concurrently."
   ]
  },
  {
   "cell_type": "code",
   "execution_count": null,
   "metadata": {},
   "outputs": [
    {
     "name": "stdout",
     "output_type": "stream",
     "text": [
      "Register test4@example.com: {'message': 'User registered successfully'}\n",
      "Register test0@example.com: {'message': 'User registered successfully'}\n",
      "Register test1@example.com: {'message': 'User registered successfully'}Register test3@example.com: {'detail': 'Email already registered'}\n",
      "\n",
      "Register test2@example.com: {'message': 'User registered successfully'}\n",
      "Order 1 for test4@example.com: {\"message\":\"Order placed for Test Product\"}\n",
      "Order 1 for test0@example.com: {\"message\":\"Order placed for Test Product\"}\n",
      "Order 1 for test1@example.com: {\"message\":\"Order placed for Test Product\"}\n",
      "Order 1 for test3@example.com: {\"message\":\"Order placed for Test Product\"}\n",
      "Order 2 for test4@example.com: {\"message\":\"Order placed for Test Product\"}\n",
      "Order 2 for test0@example.com: {\"message\":\"Order placed for Test Product\"}\n",
      "Order 2 for test1@example.com: {\"message\":\"Order placed for Test Product\"}\n",
      "Order 1 for test2@example.com: {\"message\":\"Order placed for Test Product\"}\n",
      "Order 2 for test3@example.com: Internal Server Error\n",
      "Order 2 for test2@example.com: Internal Server Error\n"
     ]
    }
   ],
   "source": [
    "import requests\n",
    "from concurrent.futures import ThreadPoolExecutor\n",
    "\n",
    "BASE_URL = \"https://sample-841529411887.europe-central2.run.app\"\n",
    "PRODUCT_ID = \"UHtoQiohGaQN9csfXPDK\"\n",
    "\n",
    "def run_user_test(email):\n",
    "    reg_response = requests.post(\n",
    "        f\"{BASE_URL}/register\",\n",
    "        json={\"email\": email, \"password\": \"testpassword\"}\n",
    "    )\n",
    "    \n",
    "    token_response = requests.post(\n",
    "        f\"{BASE_URL}/token\",\n",
    "        data={\"username\": email, \"password\": \"testpassword\"}\n",
    "    )\n",
    "    \n",
    "    if token_response.status_code != 200:\n",
    "        print(f\"Login failed for {email}: {token_response.text}\")\n",
    "        return\n",
    "        \n",
    "    token = token_response.json()[\"access_token\"]\n",
    "    \n",
    "    headers = {\n",
    "        \"Authorization\": f\"Bearer {token}\",\n",
    "        \"Content-Type\": \"application/json\"\n",
    "    }\n",
    "    \n",
    "    for i in range(2):\n",
    "        order_response = requests.post(\n",
    "            f\"{BASE_URL}/place_order\",\n",
    "            headers=headers,\n",
    "            json={\"buyer_email\": email, \"product_id\": PRODUCT_ID}\n",
    "        )\n",
    "        print(f\"Order {i+1} for {email}: {order_response.text}\")\n",
    "\n",
    "emails = [f\"test{i}@example.com\" for i in range(5)]\n",
    "\n",
    "with ThreadPoolExecutor(max_workers=5) as executor:\n",
    "    executor.map(run_user_test, emails)"
   ]
  }
 ],
 "metadata": {
  "kernelspec": {
   "display_name": "venv",
   "language": "python",
   "name": "python3"
  },
  "language_info": {
   "codemirror_mode": {
    "name": "ipython",
    "version": 3
   },
   "file_extension": ".py",
   "mimetype": "text/x-python",
   "name": "python",
   "nbconvert_exporter": "python",
   "pygments_lexer": "ipython3",
   "version": "3.12.1"
  }
 },
 "nbformat": 4,
 "nbformat_minor": 2
}
